{
 "cells": [
  {
   "cell_type": "code",
   "execution_count": 53,
   "metadata": {},
   "outputs": [],
   "source": [
    "import os  # Importar el módulo para operaciones del sistema\n",
    "import numpy as np  # Importar NumPy para operaciones matemáticas y arreglos\n",
    "import pandas as pd  # Importar Pandas para manipulación de datos\n",
    "from shutil import copyfile  # Importar función para copiar archivos\n",
    "import matplotlib.pyplot as plt  # Importar Matplotlib para graficar\n",
    "\n",
    "from keras import backend as K  # Importar backend de Keras\n",
    "from keras import layers as L  # Importar capas de Keras\n",
    "from keras.models import Model, load_model  # Importar modelo y función para cargar modelos\n",
    "from keras.regularizers import l2  # Importar regularizador L2\n",
    "from keras.callbacks import ModelCheckpoint, ReduceLROnPlateau, EarlyStopping  # Importar callbacks para el entrenamiento\n",
    "\n",
    "from tensorflow.keras.preprocessing import image  # Importar funciones de preprocesamiento de imágenes de Keras\n",
    "from tensorflow.keras.preprocessing.image import ImageDataGenerator  # Importar generador de datos de imágenes\n"
   ]
  },
  {
   "cell_type": "code",
   "execution_count": 54,
   "metadata": {},
   "outputs": [],
   "source": [
    "# Crear un directorio para almacenar las imágenes\n",
    "os.mkdir('./images/')\n",
    "alpha = 'a'  # Inicializar la letra para los directorios\n",
    "for i in range(0, 26):  # Crear directorios para cada letra de la A a la Z\n",
    "    os.mkdir('./images/' + alpha)\n",
    "    alpha = chr(ord(alpha) + 1)  # Pasar a la siguiente letra\n",
    "\n",
    "rootdir = 'Braille_Dataset/'  # Directorio raíz del conjunto de datos\n",
    "for file in os.listdir(rootdir):  # Recorrer los archivos en el directorio\n",
    "    letter = file[0]  # Obtener la letra del archivo\n",
    "    copyfile(rootdir + file, './images/' + letter + '/' + file)  # Copiar el archivo a su respectivo directorio\n"
   ]
  },
  {
   "cell_type": "code",
   "execution_count": 55,
   "metadata": {},
   "outputs": [
    {
     "name": "stdout",
     "output_type": "stream",
     "text": [
      "Found 832 images belonging to 26 classes.\n",
      "Found 208 images belonging to 26 classes.\n"
     ]
    }
   ],
   "source": [
    "# Inicializar el generador de datos de imágenes con aumentos\n",
    "datagen = ImageDataGenerator(rotation_range=20,\n",
    "                             shear_range=10,\n",
    "                             validation_split=0.2)\n",
    "\n",
    "# Crear un generador para el conjunto de entrenamiento\n",
    "train_generator = datagen.flow_from_directory('./images/',\n",
    "                                              target_size=(28, 28),\n",
    "                                              subset='training')\n",
    "\n",
    "# Crear un generador para el conjunto de validación\n",
    "val_generator = datagen.flow_from_directory('./images/',\n",
    "                                            target_size=(28, 28),\n",
    "                                            subset='validation')"
   ]
  },
  {
   "cell_type": "code",
   "execution_count": 101,
   "metadata": {},
   "outputs": [
    {
     "name": "stdout",
     "output_type": "stream",
     "text": [
      "Epoch 1/1000000\n",
      "\u001b[1m26/26\u001b[0m \u001b[32m━━━━━━━━━━━━━━━━━━━━\u001b[0m\u001b[37m\u001b[0m \u001b[1m2s\u001b[0m 37ms/step - accuracy: 0.0367 - loss: 3.3252 - val_accuracy: 0.0385 - val_loss: 3.2730 - learning_rate: 0.0010\n",
      "Epoch 2/1000000\n",
      "\u001b[1m26/26\u001b[0m \u001b[32m━━━━━━━━━━━━━━━━━━━━\u001b[0m\u001b[37m\u001b[0m \u001b[1m1s\u001b[0m 29ms/step - accuracy: 0.0404 - loss: 3.2683 - val_accuracy: 0.0673 - val_loss: 3.2421 - learning_rate: 0.0010\n",
      "Epoch 3/1000000\n",
      "\u001b[1m26/26\u001b[0m \u001b[32m━━━━━━━━━━━━━━━━━━━━\u001b[0m\u001b[37m\u001b[0m \u001b[1m1s\u001b[0m 29ms/step - accuracy: 0.0609 - loss: 3.2246 - val_accuracy: 0.0721 - val_loss: 3.1001 - learning_rate: 0.0010\n",
      "Epoch 4/1000000\n",
      "\u001b[1m26/26\u001b[0m \u001b[32m━━━━━━━━━━━━━━━━━━━━\u001b[0m\u001b[37m\u001b[0m \u001b[1m1s\u001b[0m 29ms/step - accuracy: 0.1114 - loss: 3.0502 - val_accuracy: 0.2260 - val_loss: 2.7741 - learning_rate: 0.0010\n",
      "Epoch 5/1000000\n",
      "\u001b[1m26/26\u001b[0m \u001b[32m━━━━━━━━━━━━━━━━━━━━\u001b[0m\u001b[37m\u001b[0m \u001b[1m1s\u001b[0m 29ms/step - accuracy: 0.1972 - loss: 2.7556 - val_accuracy: 0.2308 - val_loss: 2.6577 - learning_rate: 0.0010\n",
      "Epoch 6/1000000\n",
      "\u001b[1m26/26\u001b[0m \u001b[32m━━━━━━━━━━━━━━━━━━━━\u001b[0m\u001b[37m\u001b[0m \u001b[1m1s\u001b[0m 30ms/step - accuracy: 0.2986 - loss: 2.4545 - val_accuracy: 0.3798 - val_loss: 2.2207 - learning_rate: 0.0010\n",
      "Epoch 7/1000000\n",
      "\u001b[1m26/26\u001b[0m \u001b[32m━━━━━━━━━━━━━━━━━━━━\u001b[0m\u001b[37m\u001b[0m \u001b[1m1s\u001b[0m 28ms/step - accuracy: 0.3787 - loss: 2.1471 - val_accuracy: 0.5144 - val_loss: 1.8178 - learning_rate: 0.0010\n",
      "Epoch 8/1000000\n",
      "\u001b[1m26/26\u001b[0m \u001b[32m━━━━━━━━━━━━━━━━━━━━\u001b[0m\u001b[37m\u001b[0m \u001b[1m1s\u001b[0m 28ms/step - accuracy: 0.5305 - loss: 1.7224 - val_accuracy: 0.4663 - val_loss: 1.7919 - learning_rate: 0.0010\n",
      "Epoch 9/1000000\n",
      "\u001b[1m26/26\u001b[0m \u001b[32m━━━━━━━━━━━━━━━━━━━━\u001b[0m\u001b[37m\u001b[0m \u001b[1m1s\u001b[0m 28ms/step - accuracy: 0.5419 - loss: 1.5645 - val_accuracy: 0.5962 - val_loss: 1.4975 - learning_rate: 0.0010\n",
      "Epoch 10/1000000\n",
      "\u001b[1m26/26\u001b[0m \u001b[32m━━━━━━━━━━━━━━━━━━━━\u001b[0m\u001b[37m\u001b[0m \u001b[1m1s\u001b[0m 28ms/step - accuracy: 0.6210 - loss: 1.2615 - val_accuracy: 0.7019 - val_loss: 1.2288 - learning_rate: 0.0010\n",
      "Epoch 11/1000000\n",
      "\u001b[1m26/26\u001b[0m \u001b[32m━━━━━━━━━━━━━━━━━━━━\u001b[0m\u001b[37m\u001b[0m \u001b[1m1s\u001b[0m 28ms/step - accuracy: 0.7512 - loss: 1.0084 - val_accuracy: 0.6827 - val_loss: 1.1807 - learning_rate: 0.0010\n",
      "Epoch 12/1000000\n",
      "\u001b[1m26/26\u001b[0m \u001b[32m━━━━━━━━━━━━━━━━━━━━\u001b[0m\u001b[37m\u001b[0m \u001b[1m1s\u001b[0m 28ms/step - accuracy: 0.7646 - loss: 0.9000 - val_accuracy: 0.7500 - val_loss: 0.9997 - learning_rate: 0.0010\n",
      "Epoch 13/1000000\n",
      "\u001b[1m26/26\u001b[0m \u001b[32m━━━━━━━━━━━━━━━━━━━━\u001b[0m\u001b[37m\u001b[0m \u001b[1m1s\u001b[0m 29ms/step - accuracy: 0.8192 - loss: 0.7270 - val_accuracy: 0.6971 - val_loss: 1.0530 - learning_rate: 0.0010\n",
      "Epoch 14/1000000\n",
      "\u001b[1m26/26\u001b[0m \u001b[32m━━━━━━━━━━━━━━━━━━━━\u001b[0m\u001b[37m\u001b[0m \u001b[1m1s\u001b[0m 30ms/step - accuracy: 0.7552 - loss: 0.7764 - val_accuracy: 0.7596 - val_loss: 0.8777 - learning_rate: 0.0010\n",
      "Epoch 15/1000000\n",
      "\u001b[1m26/26\u001b[0m \u001b[32m━━━━━━━━━━━━━━━━━━━━\u001b[0m\u001b[37m\u001b[0m \u001b[1m1s\u001b[0m 29ms/step - accuracy: 0.7727 - loss: 0.7617 - val_accuracy: 0.7500 - val_loss: 0.9721 - learning_rate: 0.0010\n",
      "Epoch 16/1000000\n",
      "\u001b[1m26/26\u001b[0m \u001b[32m━━━━━━━━━━━━━━━━━━━━\u001b[0m\u001b[37m\u001b[0m \u001b[1m1s\u001b[0m 30ms/step - accuracy: 0.8423 - loss: 0.5485 - val_accuracy: 0.8077 - val_loss: 0.7431 - learning_rate: 0.0010\n",
      "Epoch 17/1000000\n",
      "\u001b[1m26/26\u001b[0m \u001b[32m━━━━━━━━━━━━━━━━━━━━\u001b[0m\u001b[37m\u001b[0m \u001b[1m1s\u001b[0m 30ms/step - accuracy: 0.8749 - loss: 0.4306 - val_accuracy: 0.8750 - val_loss: 0.5567 - learning_rate: 0.0010\n",
      "Epoch 18/1000000\n",
      "\u001b[1m26/26\u001b[0m \u001b[32m━━━━━━━━━━━━━━━━━━━━\u001b[0m\u001b[37m\u001b[0m \u001b[1m1s\u001b[0m 30ms/step - accuracy: 0.9111 - loss: 0.3927 - val_accuracy: 0.8558 - val_loss: 0.5532 - learning_rate: 0.0010\n",
      "Epoch 19/1000000\n",
      "\u001b[1m26/26\u001b[0m \u001b[32m━━━━━━━━━━━━━━━━━━━━\u001b[0m\u001b[37m\u001b[0m \u001b[1m1s\u001b[0m 28ms/step - accuracy: 0.8957 - loss: 0.3706 - val_accuracy: 0.8269 - val_loss: 0.6960 - learning_rate: 0.0010\n",
      "Epoch 20/1000000\n",
      "\u001b[1m26/26\u001b[0m \u001b[32m━━━━━━━━━━━━━━━━━━━━\u001b[0m\u001b[37m\u001b[0m \u001b[1m1s\u001b[0m 29ms/step - accuracy: 0.8865 - loss: 0.3783 - val_accuracy: 0.8317 - val_loss: 0.6763 - learning_rate: 0.0010\n",
      "Epoch 21/1000000\n",
      "\u001b[1m26/26\u001b[0m \u001b[32m━━━━━━━━━━━━━━━━━━━━\u001b[0m\u001b[37m\u001b[0m \u001b[1m1s\u001b[0m 28ms/step - accuracy: 0.9014 - loss: 0.3722 - val_accuracy: 0.8365 - val_loss: 0.5789 - learning_rate: 0.0010\n",
      "Epoch 22/1000000\n",
      "\u001b[1m26/26\u001b[0m \u001b[32m━━━━━━━━━━━━━━━━━━━━\u001b[0m\u001b[37m\u001b[0m \u001b[1m1s\u001b[0m 30ms/step - accuracy: 0.9129 - loss: 0.3669 - val_accuracy: 0.8990 - val_loss: 0.4536 - learning_rate: 0.0010\n",
      "Epoch 23/1000000\n",
      "\u001b[1m26/26\u001b[0m \u001b[32m━━━━━━━━━━━━━━━━━━━━\u001b[0m\u001b[37m\u001b[0m \u001b[1m1s\u001b[0m 28ms/step - accuracy: 0.9328 - loss: 0.2586 - val_accuracy: 0.8221 - val_loss: 0.5823 - learning_rate: 0.0010\n",
      "Epoch 24/1000000\n",
      "\u001b[1m26/26\u001b[0m \u001b[32m━━━━━━━━━━━━━━━━━━━━\u001b[0m\u001b[37m\u001b[0m \u001b[1m1s\u001b[0m 28ms/step - accuracy: 0.9097 - loss: 0.3259 - val_accuracy: 0.8702 - val_loss: 0.5957 - learning_rate: 0.0010\n",
      "Epoch 25/1000000\n",
      "\u001b[1m26/26\u001b[0m \u001b[32m━━━━━━━━━━━━━━━━━━━━\u001b[0m\u001b[37m\u001b[0m \u001b[1m1s\u001b[0m 28ms/step - accuracy: 0.9100 - loss: 0.3100 - val_accuracy: 0.8510 - val_loss: 0.5260 - learning_rate: 0.0010\n",
      "Epoch 26/1000000\n",
      "\u001b[1m26/26\u001b[0m \u001b[32m━━━━━━━━━━━━━━━━━━━━\u001b[0m\u001b[37m\u001b[0m \u001b[1m1s\u001b[0m 29ms/step - accuracy: 0.9279 - loss: 0.2806 - val_accuracy: 0.8894 - val_loss: 0.4638 - learning_rate: 0.0010\n",
      "Epoch 27/1000000\n",
      "\u001b[1m26/26\u001b[0m \u001b[32m━━━━━━━━━━━━━━━━━━━━\u001b[0m\u001b[37m\u001b[0m \u001b[1m1s\u001b[0m 28ms/step - accuracy: 0.9287 - loss: 0.2352 - val_accuracy: 0.8413 - val_loss: 0.5427 - learning_rate: 0.0010\n",
      "Epoch 28/1000000\n",
      "\u001b[1m26/26\u001b[0m \u001b[32m━━━━━━━━━━━━━━━━━━━━\u001b[0m\u001b[37m\u001b[0m \u001b[1m1s\u001b[0m 29ms/step - accuracy: 0.9331 - loss: 0.2964 - val_accuracy: 0.8894 - val_loss: 0.4741 - learning_rate: 0.0010\n",
      "Epoch 29/1000000\n",
      "\u001b[1m26/26\u001b[0m \u001b[32m━━━━━━━━━━━━━━━━━━━━\u001b[0m\u001b[37m\u001b[0m \u001b[1m1s\u001b[0m 29ms/step - accuracy: 0.9602 - loss: 0.1838 - val_accuracy: 0.8846 - val_loss: 0.4778 - learning_rate: 0.0010\n",
      "Epoch 30/1000000\n",
      "\u001b[1m26/26\u001b[0m \u001b[32m━━━━━━━━━━━━━━━━━━━━\u001b[0m\u001b[37m\u001b[0m \u001b[1m1s\u001b[0m 28ms/step - accuracy: 0.9359 - loss: 0.2506 - val_accuracy: 0.8846 - val_loss: 0.4987 - learning_rate: 0.0010\n",
      "Epoch 31/1000000\n",
      "\u001b[1m26/26\u001b[0m \u001b[32m━━━━━━━━━━━━━━━━━━━━\u001b[0m\u001b[37m\u001b[0m \u001b[1m1s\u001b[0m 28ms/step - accuracy: 0.9358 - loss: 0.2756 - val_accuracy: 0.9087 - val_loss: 0.4674 - learning_rate: 1.0000e-04\n",
      "Epoch 32/1000000\n",
      "\u001b[1m26/26\u001b[0m \u001b[32m━━━━━━━━━━━━━━━━━━━━\u001b[0m\u001b[37m\u001b[0m \u001b[1m1s\u001b[0m 30ms/step - accuracy: 0.9594 - loss: 0.1665 - val_accuracy: 0.9038 - val_loss: 0.3860 - learning_rate: 1.0000e-04\n",
      "Epoch 33/1000000\n",
      "\u001b[1m26/26\u001b[0m \u001b[32m━━━━━━━━━━━━━━━━━━━━\u001b[0m\u001b[37m\u001b[0m \u001b[1m1s\u001b[0m 28ms/step - accuracy: 0.9755 - loss: 0.1171 - val_accuracy: 0.8894 - val_loss: 0.4030 - learning_rate: 1.0000e-04\n",
      "Epoch 34/1000000\n",
      "\u001b[1m26/26\u001b[0m \u001b[32m━━━━━━━━━━━━━━━━━━━━\u001b[0m\u001b[37m\u001b[0m \u001b[1m1s\u001b[0m 30ms/step - accuracy: 0.9740 - loss: 0.1317 - val_accuracy: 0.9135 - val_loss: 0.3072 - learning_rate: 1.0000e-04\n",
      "Epoch 35/1000000\n",
      "\u001b[1m26/26\u001b[0m \u001b[32m━━━━━━━━━━━━━━━━━━━━\u001b[0m\u001b[37m\u001b[0m \u001b[1m1s\u001b[0m 29ms/step - accuracy: 0.9798 - loss: 0.1096 - val_accuracy: 0.9231 - val_loss: 0.3283 - learning_rate: 1.0000e-04\n",
      "Epoch 36/1000000\n",
      "\u001b[1m26/26\u001b[0m \u001b[32m━━━━━━━━━━━━━━━━━━━━\u001b[0m\u001b[37m\u001b[0m \u001b[1m1s\u001b[0m 28ms/step - accuracy: 0.9646 - loss: 0.1278 - val_accuracy: 0.9183 - val_loss: 0.3110 - learning_rate: 1.0000e-04\n",
      "Epoch 37/1000000\n",
      "\u001b[1m26/26\u001b[0m \u001b[32m━━━━━━━━━━━━━━━━━━━━\u001b[0m\u001b[37m\u001b[0m \u001b[1m1s\u001b[0m 28ms/step - accuracy: 0.9718 - loss: 0.1197 - val_accuracy: 0.9135 - val_loss: 0.3738 - learning_rate: 1.0000e-04\n",
      "Epoch 38/1000000\n",
      "\u001b[1m26/26\u001b[0m \u001b[32m━━━━━━━━━━━━━━━━━━━━\u001b[0m\u001b[37m\u001b[0m \u001b[1m1s\u001b[0m 30ms/step - accuracy: 0.9699 - loss: 0.1332 - val_accuracy: 0.9183 - val_loss: 0.3031 - learning_rate: 1.0000e-04\n",
      "Epoch 39/1000000\n",
      "\u001b[1m26/26\u001b[0m \u001b[32m━━━━━━━━━━━━━━━━━━━━\u001b[0m\u001b[37m\u001b[0m \u001b[1m1s\u001b[0m 28ms/step - accuracy: 0.9697 - loss: 0.1312 - val_accuracy: 0.9231 - val_loss: 0.3315 - learning_rate: 1.0000e-04\n",
      "Epoch 40/1000000\n",
      "\u001b[1m26/26\u001b[0m \u001b[32m━━━━━━━━━━━━━━━━━━━━\u001b[0m\u001b[37m\u001b[0m \u001b[1m1s\u001b[0m 28ms/step - accuracy: 0.9727 - loss: 0.1102 - val_accuracy: 0.9231 - val_loss: 0.3101 - learning_rate: 1.0000e-04\n",
      "Epoch 41/1000000\n",
      "\u001b[1m26/26\u001b[0m \u001b[32m━━━━━━━━━━━━━━━━━━━━\u001b[0m\u001b[37m\u001b[0m \u001b[1m1s\u001b[0m 29ms/step - accuracy: 0.9702 - loss: 0.1299 - val_accuracy: 0.9423 - val_loss: 0.3077 - learning_rate: 1.0000e-04\n",
      "Epoch 42/1000000\n",
      "\u001b[1m26/26\u001b[0m \u001b[32m━━━━━━━━━━━━━━━━━━━━\u001b[0m\u001b[37m\u001b[0m \u001b[1m1s\u001b[0m 29ms/step - accuracy: 0.9804 - loss: 0.1025 - val_accuracy: 0.9327 - val_loss: 0.3199 - learning_rate: 1.0000e-04\n",
      "Epoch 43/1000000\n",
      "\u001b[1m26/26\u001b[0m \u001b[32m━━━━━━━━━━━━━━━━━━━━\u001b[0m\u001b[37m\u001b[0m \u001b[1m1s\u001b[0m 28ms/step - accuracy: 0.9790 - loss: 0.1116 - val_accuracy: 0.9183 - val_loss: 0.3707 - learning_rate: 1.0000e-04\n",
      "Epoch 44/1000000\n",
      "\u001b[1m26/26\u001b[0m \u001b[32m━━━━━━━━━━━━━━━━━━━━\u001b[0m\u001b[37m\u001b[0m \u001b[1m1s\u001b[0m 30ms/step - accuracy: 0.9828 - loss: 0.1058 - val_accuracy: 0.9231 - val_loss: 0.2712 - learning_rate: 1.0000e-04\n",
      "Epoch 45/1000000\n",
      "\u001b[1m26/26\u001b[0m \u001b[32m━━━━━━━━━━━━━━━━━━━━\u001b[0m\u001b[37m\u001b[0m \u001b[1m1s\u001b[0m 28ms/step - accuracy: 0.9856 - loss: 0.0888 - val_accuracy: 0.9375 - val_loss: 0.3251 - learning_rate: 1.0000e-04\n",
      "Epoch 46/1000000\n",
      "\u001b[1m26/26\u001b[0m \u001b[32m━━━━━━━━━━━━━━━━━━━━\u001b[0m\u001b[37m\u001b[0m \u001b[1m1s\u001b[0m 28ms/step - accuracy: 0.9794 - loss: 0.0901 - val_accuracy: 0.9279 - val_loss: 0.3411 - learning_rate: 1.0000e-04\n",
      "Epoch 47/1000000\n",
      "\u001b[1m26/26\u001b[0m \u001b[32m━━━━━━━━━━━━━━━━━━━━\u001b[0m\u001b[37m\u001b[0m \u001b[1m1s\u001b[0m 30ms/step - accuracy: 0.9893 - loss: 0.0856 - val_accuracy: 0.9327 - val_loss: 0.2363 - learning_rate: 1.0000e-04\n",
      "Epoch 48/1000000\n",
      "\u001b[1m26/26\u001b[0m \u001b[32m━━━━━━━━━━━━━━━━━━━━\u001b[0m\u001b[37m\u001b[0m \u001b[1m1s\u001b[0m 29ms/step - accuracy: 0.9905 - loss: 0.0796 - val_accuracy: 0.9135 - val_loss: 0.3354 - learning_rate: 1.0000e-04\n",
      "Epoch 49/1000000\n",
      "\u001b[1m26/26\u001b[0m \u001b[32m━━━━━━━━━━━━━━━━━━━━\u001b[0m\u001b[37m\u001b[0m \u001b[1m1s\u001b[0m 28ms/step - accuracy: 0.9770 - loss: 0.0978 - val_accuracy: 0.8990 - val_loss: 0.4379 - learning_rate: 1.0000e-04\n",
      "Epoch 50/1000000\n",
      "\u001b[1m26/26\u001b[0m \u001b[32m━━━━━━━━━━━━━━━━━━━━\u001b[0m\u001b[37m\u001b[0m \u001b[1m1s\u001b[0m 29ms/step - accuracy: 0.9753 - loss: 0.1006 - val_accuracy: 0.9183 - val_loss: 0.2942 - learning_rate: 1.0000e-04\n",
      "Epoch 51/1000000\n",
      "\u001b[1m26/26\u001b[0m \u001b[32m━━━━━━━━━━━━━━━━━━━━\u001b[0m\u001b[37m\u001b[0m \u001b[1m1s\u001b[0m 29ms/step - accuracy: 0.9872 - loss: 0.0831 - val_accuracy: 0.9038 - val_loss: 0.3464 - learning_rate: 1.0000e-04\n",
      "Epoch 52/1000000\n",
      "\u001b[1m26/26\u001b[0m \u001b[32m━━━━━━━━━━━━━━━━━━━━\u001b[0m\u001b[37m\u001b[0m \u001b[1m1s\u001b[0m 28ms/step - accuracy: 0.9846 - loss: 0.0805 - val_accuracy: 0.9231 - val_loss: 0.3273 - learning_rate: 1.0000e-04\n",
      "Epoch 53/1000000\n",
      "\u001b[1m26/26\u001b[0m \u001b[32m━━━━━━━━━━━━━━━━━━━━\u001b[0m\u001b[37m\u001b[0m \u001b[1m1s\u001b[0m 28ms/step - accuracy: 0.9850 - loss: 0.0919 - val_accuracy: 0.9038 - val_loss: 0.3872 - learning_rate: 1.0000e-04\n",
      "Epoch 54/1000000\n",
      "\u001b[1m26/26\u001b[0m \u001b[32m━━━━━━━━━━━━━━━━━━━━\u001b[0m\u001b[37m\u001b[0m \u001b[1m1s\u001b[0m 29ms/step - accuracy: 0.9776 - loss: 0.1121 - val_accuracy: 0.9135 - val_loss: 0.3752 - learning_rate: 1.0000e-04\n",
      "Epoch 55/1000000\n",
      "\u001b[1m26/26\u001b[0m \u001b[32m━━━━━━━━━━━━━━━━━━━━\u001b[0m\u001b[37m\u001b[0m \u001b[1m1s\u001b[0m 29ms/step - accuracy: 0.9824 - loss: 0.0833 - val_accuracy: 0.9231 - val_loss: 0.2940 - learning_rate: 1.0000e-04\n",
      "Epoch 56/1000000\n",
      "\u001b[1m26/26\u001b[0m \u001b[32m━━━━━━━━━━━━━━━━━━━━\u001b[0m\u001b[37m\u001b[0m \u001b[1m1s\u001b[0m 28ms/step - accuracy: 0.9756 - loss: 0.0972 - val_accuracy: 0.9087 - val_loss: 0.3099 - learning_rate: 1.0000e-05\n",
      "Epoch 57/1000000\n",
      "\u001b[1m26/26\u001b[0m \u001b[32m━━━━━━━━━━━━━━━━━━━━\u001b[0m\u001b[37m\u001b[0m \u001b[1m1s\u001b[0m 28ms/step - accuracy: 0.9864 - loss: 0.0759 - val_accuracy: 0.9279 - val_loss: 0.2893 - learning_rate: 1.0000e-05\n",
      "Epoch 58/1000000\n",
      "\u001b[1m26/26\u001b[0m \u001b[32m━━━━━━━━━━━━━━━━━━━━\u001b[0m\u001b[37m\u001b[0m \u001b[1m1s\u001b[0m 29ms/step - accuracy: 0.9769 - loss: 0.0973 - val_accuracy: 0.9327 - val_loss: 0.3091 - learning_rate: 1.0000e-05\n",
      "Epoch 59/1000000\n",
      "\u001b[1m26/26\u001b[0m \u001b[32m━━━━━━━━━━━━━━━━━━━━\u001b[0m\u001b[37m\u001b[0m \u001b[1m1s\u001b[0m 29ms/step - accuracy: 0.9822 - loss: 0.0978 - val_accuracy: 0.9135 - val_loss: 0.3473 - learning_rate: 1.0000e-05\n",
      "Epoch 60/1000000\n",
      "\u001b[1m26/26\u001b[0m \u001b[32m━━━━━━━━━━━━━━━━━━━━\u001b[0m\u001b[37m\u001b[0m \u001b[1m1s\u001b[0m 29ms/step - accuracy: 0.9768 - loss: 0.0990 - val_accuracy: 0.9231 - val_loss: 0.3190 - learning_rate: 1.0000e-05\n",
      "Epoch 61/1000000\n",
      "\u001b[1m26/26\u001b[0m \u001b[32m━━━━━━━━━━━━━━━━━━━━\u001b[0m\u001b[37m\u001b[0m \u001b[1m1s\u001b[0m 29ms/step - accuracy: 0.9788 - loss: 0.0990 - val_accuracy: 0.9279 - val_loss: 0.2758 - learning_rate: 1.0000e-05\n",
      "Epoch 62/1000000\n",
      "\u001b[1m26/26\u001b[0m \u001b[32m━━━━━━━━━━━━━━━━━━━━\u001b[0m\u001b[37m\u001b[0m \u001b[1m1s\u001b[0m 29ms/step - accuracy: 0.9824 - loss: 0.0800 - val_accuracy: 0.9183 - val_loss: 0.2957 - learning_rate: 1.0000e-05\n",
      "Epoch 62: early stopping\n"
     ]
    }
   ],
   "source": [
    "K.clear_session()  # Limpiar la sesión de Keras para evitar problemas de memoria\n",
    "\n",
    "# Configurar los callbacks para el entrenamiento\n",
    "model_ckpt = ModelCheckpoint('BrailleNet.keras', save_best_only=True)  # Guardar el mejor modelo\n",
    "reduce_lr = ReduceLROnPlateau(patience=8, verbose=0)  # Reducir la tasa de aprendizaje si no hay mejora\n",
    "early_stop = EarlyStopping(patience=15, verbose=1)  # Detener el entrenamiento si no hay mejora\n",
    "\n",
    "# Definir la arquitectura del modelo\n",
    "entry = L.Input(shape=(28, 28, 3))  # Entrada del modelo\n",
    "x = L.SeparableConv2D(64, (3, 3), activation='relu')(entry)  # Primera capa convolucional separable\n",
    "x = L.MaxPooling2D((2, 2))(x)  # Capa de max pooling\n",
    "x = L.SeparableConv2D(128, (3, 3), activation='relu')(x)  # Segunda capa convolucional separable\n",
    "x = L.MaxPooling2D((2, 2))(x)  # Capa de max pooling\n",
    "x = L.SeparableConv2D(256, (2, 2), activation='relu')(x)  # Tercera capa convolucional separable\n",
    "x = L.GlobalMaxPooling2D()(x)  # Capa de max pooling global\n",
    "x = L.Dense(256)(x)  # Capa densa\n",
    "x = L.LeakyReLU()(x)  # Activación LeakyReLU\n",
    "x = L.Dense(64, kernel_regularizer=l2(2e-4))(x)  # Capa densa con regularización L2\n",
    "x = L.LeakyReLU()(x)  # Activación LeakyReLU\n",
    "x = L.Dense(26, activation='softmax')(x)  # Capa de salida con activación softmax\n",
    "\n",
    "# Crear el modelo\n",
    "model = Model(entry, x)\n",
    "# Compilar el modelo con función de pérdida y optimizador\n",
    "model.compile(loss='categorical_crossentropy', optimizer='adam', metrics=['accuracy'])\n",
    "\n",
    "# Entrenar el modelo\n",
    "history = model.fit(\n",
    "    train_generator,\n",
    "    validation_data=val_generator,\n",
    "    epochs=1000000,  # Número de épocas\n",
    "    callbacks=[model_ckpt, reduce_lr, early_stop],  # Callbacks\n",
    "    verbose=1  # Mostrar información del entrenamiento\n",
    ")"
   ]
  },
  {
   "cell_type": "code",
   "execution_count": 95,
   "metadata": {},
   "outputs": [
    {
     "data": {
      "text/html": [
       "<pre style=\"white-space:pre;overflow-x:auto;line-height:normal;font-family:Menlo,'DejaVu Sans Mono',consolas,'Courier New',monospace\"><span style=\"font-weight: bold\">Model: \"functional\"</span>\n",
       "</pre>\n"
      ],
      "text/plain": [
       "\u001b[1mModel: \"functional\"\u001b[0m\n"
      ]
     },
     "metadata": {},
     "output_type": "display_data"
    },
    {
     "data": {
      "text/html": [
       "<pre style=\"white-space:pre;overflow-x:auto;line-height:normal;font-family:Menlo,'DejaVu Sans Mono',consolas,'Courier New',monospace\">┏━━━━━━━━━━━━━━━━━━━━━━━━━━━━━━━━━┳━━━━━━━━━━━━━━━━━━━━━━━━┳━━━━━━━━━━━━━━━┓\n",
       "┃<span style=\"font-weight: bold\"> Layer (type)                    </span>┃<span style=\"font-weight: bold\"> Output Shape           </span>┃<span style=\"font-weight: bold\">       Param # </span>┃\n",
       "┡━━━━━━━━━━━━━━━━━━━━━━━━━━━━━━━━━╇━━━━━━━━━━━━━━━━━━━━━━━━╇━━━━━━━━━━━━━━━┩\n",
       "│ input_layer (<span style=\"color: #0087ff; text-decoration-color: #0087ff\">InputLayer</span>)        │ (<span style=\"color: #00d7ff; text-decoration-color: #00d7ff\">None</span>, <span style=\"color: #00af00; text-decoration-color: #00af00\">28</span>, <span style=\"color: #00af00; text-decoration-color: #00af00\">28</span>, <span style=\"color: #00af00; text-decoration-color: #00af00\">3</span>)      │             <span style=\"color: #00af00; text-decoration-color: #00af00\">0</span> │\n",
       "├─────────────────────────────────┼────────────────────────┼───────────────┤\n",
       "│ separable_conv2d                │ (<span style=\"color: #00d7ff; text-decoration-color: #00d7ff\">None</span>, <span style=\"color: #00af00; text-decoration-color: #00af00\">26</span>, <span style=\"color: #00af00; text-decoration-color: #00af00\">26</span>, <span style=\"color: #00af00; text-decoration-color: #00af00\">64</span>)     │           <span style=\"color: #00af00; text-decoration-color: #00af00\">283</span> │\n",
       "│ (<span style=\"color: #0087ff; text-decoration-color: #0087ff\">SeparableConv2D</span>)               │                        │               │\n",
       "├─────────────────────────────────┼────────────────────────┼───────────────┤\n",
       "│ max_pooling2d (<span style=\"color: #0087ff; text-decoration-color: #0087ff\">MaxPooling2D</span>)    │ (<span style=\"color: #00d7ff; text-decoration-color: #00d7ff\">None</span>, <span style=\"color: #00af00; text-decoration-color: #00af00\">13</span>, <span style=\"color: #00af00; text-decoration-color: #00af00\">13</span>, <span style=\"color: #00af00; text-decoration-color: #00af00\">64</span>)     │             <span style=\"color: #00af00; text-decoration-color: #00af00\">0</span> │\n",
       "├─────────────────────────────────┼────────────────────────┼───────────────┤\n",
       "│ separable_conv2d_1              │ (<span style=\"color: #00d7ff; text-decoration-color: #00d7ff\">None</span>, <span style=\"color: #00af00; text-decoration-color: #00af00\">11</span>, <span style=\"color: #00af00; text-decoration-color: #00af00\">11</span>, <span style=\"color: #00af00; text-decoration-color: #00af00\">128</span>)    │         <span style=\"color: #00af00; text-decoration-color: #00af00\">8,896</span> │\n",
       "│ (<span style=\"color: #0087ff; text-decoration-color: #0087ff\">SeparableConv2D</span>)               │                        │               │\n",
       "├─────────────────────────────────┼────────────────────────┼───────────────┤\n",
       "│ max_pooling2d_1 (<span style=\"color: #0087ff; text-decoration-color: #0087ff\">MaxPooling2D</span>)  │ (<span style=\"color: #00d7ff; text-decoration-color: #00d7ff\">None</span>, <span style=\"color: #00af00; text-decoration-color: #00af00\">5</span>, <span style=\"color: #00af00; text-decoration-color: #00af00\">5</span>, <span style=\"color: #00af00; text-decoration-color: #00af00\">128</span>)      │             <span style=\"color: #00af00; text-decoration-color: #00af00\">0</span> │\n",
       "├─────────────────────────────────┼────────────────────────┼───────────────┤\n",
       "│ separable_conv2d_2              │ (<span style=\"color: #00d7ff; text-decoration-color: #00d7ff\">None</span>, <span style=\"color: #00af00; text-decoration-color: #00af00\">4</span>, <span style=\"color: #00af00; text-decoration-color: #00af00\">4</span>, <span style=\"color: #00af00; text-decoration-color: #00af00\">256</span>)      │        <span style=\"color: #00af00; text-decoration-color: #00af00\">33,536</span> │\n",
       "│ (<span style=\"color: #0087ff; text-decoration-color: #0087ff\">SeparableConv2D</span>)               │                        │               │\n",
       "├─────────────────────────────────┼────────────────────────┼───────────────┤\n",
       "│ global_max_pooling2d            │ (<span style=\"color: #00d7ff; text-decoration-color: #00d7ff\">None</span>, <span style=\"color: #00af00; text-decoration-color: #00af00\">256</span>)            │             <span style=\"color: #00af00; text-decoration-color: #00af00\">0</span> │\n",
       "│ (<span style=\"color: #0087ff; text-decoration-color: #0087ff\">GlobalMaxPooling2D</span>)            │                        │               │\n",
       "├─────────────────────────────────┼────────────────────────┼───────────────┤\n",
       "│ dense (<span style=\"color: #0087ff; text-decoration-color: #0087ff\">Dense</span>)                   │ (<span style=\"color: #00d7ff; text-decoration-color: #00d7ff\">None</span>, <span style=\"color: #00af00; text-decoration-color: #00af00\">256</span>)            │        <span style=\"color: #00af00; text-decoration-color: #00af00\">65,792</span> │\n",
       "├─────────────────────────────────┼────────────────────────┼───────────────┤\n",
       "│ leaky_re_lu (<span style=\"color: #0087ff; text-decoration-color: #0087ff\">LeakyReLU</span>)         │ (<span style=\"color: #00d7ff; text-decoration-color: #00d7ff\">None</span>, <span style=\"color: #00af00; text-decoration-color: #00af00\">256</span>)            │             <span style=\"color: #00af00; text-decoration-color: #00af00\">0</span> │\n",
       "├─────────────────────────────────┼────────────────────────┼───────────────┤\n",
       "│ dense_1 (<span style=\"color: #0087ff; text-decoration-color: #0087ff\">Dense</span>)                 │ (<span style=\"color: #00d7ff; text-decoration-color: #00d7ff\">None</span>, <span style=\"color: #00af00; text-decoration-color: #00af00\">64</span>)             │        <span style=\"color: #00af00; text-decoration-color: #00af00\">16,448</span> │\n",
       "├─────────────────────────────────┼────────────────────────┼───────────────┤\n",
       "│ leaky_re_lu_1 (<span style=\"color: #0087ff; text-decoration-color: #0087ff\">LeakyReLU</span>)       │ (<span style=\"color: #00d7ff; text-decoration-color: #00d7ff\">None</span>, <span style=\"color: #00af00; text-decoration-color: #00af00\">64</span>)             │             <span style=\"color: #00af00; text-decoration-color: #00af00\">0</span> │\n",
       "├─────────────────────────────────┼────────────────────────┼───────────────┤\n",
       "│ dense_2 (<span style=\"color: #0087ff; text-decoration-color: #0087ff\">Dense</span>)                 │ (<span style=\"color: #00d7ff; text-decoration-color: #00d7ff\">None</span>, <span style=\"color: #00af00; text-decoration-color: #00af00\">26</span>)             │         <span style=\"color: #00af00; text-decoration-color: #00af00\">1,690</span> │\n",
       "└─────────────────────────────────┴────────────────────────┴───────────────┘\n",
       "</pre>\n"
      ],
      "text/plain": [
       "┏━━━━━━━━━━━━━━━━━━━━━━━━━━━━━━━━━┳━━━━━━━━━━━━━━━━━━━━━━━━┳━━━━━━━━━━━━━━━┓\n",
       "┃\u001b[1m \u001b[0m\u001b[1mLayer (type)                   \u001b[0m\u001b[1m \u001b[0m┃\u001b[1m \u001b[0m\u001b[1mOutput Shape          \u001b[0m\u001b[1m \u001b[0m┃\u001b[1m \u001b[0m\u001b[1m      Param #\u001b[0m\u001b[1m \u001b[0m┃\n",
       "┡━━━━━━━━━━━━━━━━━━━━━━━━━━━━━━━━━╇━━━━━━━━━━━━━━━━━━━━━━━━╇━━━━━━━━━━━━━━━┩\n",
       "│ input_layer (\u001b[38;5;33mInputLayer\u001b[0m)        │ (\u001b[38;5;45mNone\u001b[0m, \u001b[38;5;34m28\u001b[0m, \u001b[38;5;34m28\u001b[0m, \u001b[38;5;34m3\u001b[0m)      │             \u001b[38;5;34m0\u001b[0m │\n",
       "├─────────────────────────────────┼────────────────────────┼───────────────┤\n",
       "│ separable_conv2d                │ (\u001b[38;5;45mNone\u001b[0m, \u001b[38;5;34m26\u001b[0m, \u001b[38;5;34m26\u001b[0m, \u001b[38;5;34m64\u001b[0m)     │           \u001b[38;5;34m283\u001b[0m │\n",
       "│ (\u001b[38;5;33mSeparableConv2D\u001b[0m)               │                        │               │\n",
       "├─────────────────────────────────┼────────────────────────┼───────────────┤\n",
       "│ max_pooling2d (\u001b[38;5;33mMaxPooling2D\u001b[0m)    │ (\u001b[38;5;45mNone\u001b[0m, \u001b[38;5;34m13\u001b[0m, \u001b[38;5;34m13\u001b[0m, \u001b[38;5;34m64\u001b[0m)     │             \u001b[38;5;34m0\u001b[0m │\n",
       "├─────────────────────────────────┼────────────────────────┼───────────────┤\n",
       "│ separable_conv2d_1              │ (\u001b[38;5;45mNone\u001b[0m, \u001b[38;5;34m11\u001b[0m, \u001b[38;5;34m11\u001b[0m, \u001b[38;5;34m128\u001b[0m)    │         \u001b[38;5;34m8,896\u001b[0m │\n",
       "│ (\u001b[38;5;33mSeparableConv2D\u001b[0m)               │                        │               │\n",
       "├─────────────────────────────────┼────────────────────────┼───────────────┤\n",
       "│ max_pooling2d_1 (\u001b[38;5;33mMaxPooling2D\u001b[0m)  │ (\u001b[38;5;45mNone\u001b[0m, \u001b[38;5;34m5\u001b[0m, \u001b[38;5;34m5\u001b[0m, \u001b[38;5;34m128\u001b[0m)      │             \u001b[38;5;34m0\u001b[0m │\n",
       "├─────────────────────────────────┼────────────────────────┼───────────────┤\n",
       "│ separable_conv2d_2              │ (\u001b[38;5;45mNone\u001b[0m, \u001b[38;5;34m4\u001b[0m, \u001b[38;5;34m4\u001b[0m, \u001b[38;5;34m256\u001b[0m)      │        \u001b[38;5;34m33,536\u001b[0m │\n",
       "│ (\u001b[38;5;33mSeparableConv2D\u001b[0m)               │                        │               │\n",
       "├─────────────────────────────────┼────────────────────────┼───────────────┤\n",
       "│ global_max_pooling2d            │ (\u001b[38;5;45mNone\u001b[0m, \u001b[38;5;34m256\u001b[0m)            │             \u001b[38;5;34m0\u001b[0m │\n",
       "│ (\u001b[38;5;33mGlobalMaxPooling2D\u001b[0m)            │                        │               │\n",
       "├─────────────────────────────────┼────────────────────────┼───────────────┤\n",
       "│ dense (\u001b[38;5;33mDense\u001b[0m)                   │ (\u001b[38;5;45mNone\u001b[0m, \u001b[38;5;34m256\u001b[0m)            │        \u001b[38;5;34m65,792\u001b[0m │\n",
       "├─────────────────────────────────┼────────────────────────┼───────────────┤\n",
       "│ leaky_re_lu (\u001b[38;5;33mLeakyReLU\u001b[0m)         │ (\u001b[38;5;45mNone\u001b[0m, \u001b[38;5;34m256\u001b[0m)            │             \u001b[38;5;34m0\u001b[0m │\n",
       "├─────────────────────────────────┼────────────────────────┼───────────────┤\n",
       "│ dense_1 (\u001b[38;5;33mDense\u001b[0m)                 │ (\u001b[38;5;45mNone\u001b[0m, \u001b[38;5;34m64\u001b[0m)             │        \u001b[38;5;34m16,448\u001b[0m │\n",
       "├─────────────────────────────────┼────────────────────────┼───────────────┤\n",
       "│ leaky_re_lu_1 (\u001b[38;5;33mLeakyReLU\u001b[0m)       │ (\u001b[38;5;45mNone\u001b[0m, \u001b[38;5;34m64\u001b[0m)             │             \u001b[38;5;34m0\u001b[0m │\n",
       "├─────────────────────────────────┼────────────────────────┼───────────────┤\n",
       "│ dense_2 (\u001b[38;5;33mDense\u001b[0m)                 │ (\u001b[38;5;45mNone\u001b[0m, \u001b[38;5;34m26\u001b[0m)             │         \u001b[38;5;34m1,690\u001b[0m │\n",
       "└─────────────────────────────────┴────────────────────────┴───────────────┘\n"
      ]
     },
     "metadata": {},
     "output_type": "display_data"
    },
    {
     "data": {
      "text/html": [
       "<pre style=\"white-space:pre;overflow-x:auto;line-height:normal;font-family:Menlo,'DejaVu Sans Mono',consolas,'Courier New',monospace\"><span style=\"font-weight: bold\"> Total params: </span><span style=\"color: #00af00; text-decoration-color: #00af00\">379,937</span> (1.45 MB)\n",
       "</pre>\n"
      ],
      "text/plain": [
       "\u001b[1m Total params: \u001b[0m\u001b[38;5;34m379,937\u001b[0m (1.45 MB)\n"
      ]
     },
     "metadata": {},
     "output_type": "display_data"
    },
    {
     "data": {
      "text/html": [
       "<pre style=\"white-space:pre;overflow-x:auto;line-height:normal;font-family:Menlo,'DejaVu Sans Mono',consolas,'Courier New',monospace\"><span style=\"font-weight: bold\"> Trainable params: </span><span style=\"color: #00af00; text-decoration-color: #00af00\">126,645</span> (494.71 KB)\n",
       "</pre>\n"
      ],
      "text/plain": [
       "\u001b[1m Trainable params: \u001b[0m\u001b[38;5;34m126,645\u001b[0m (494.71 KB)\n"
      ]
     },
     "metadata": {},
     "output_type": "display_data"
    },
    {
     "data": {
      "text/html": [
       "<pre style=\"white-space:pre;overflow-x:auto;line-height:normal;font-family:Menlo,'DejaVu Sans Mono',consolas,'Courier New',monospace\"><span style=\"font-weight: bold\"> Non-trainable params: </span><span style=\"color: #00af00; text-decoration-color: #00af00\">0</span> (0.00 B)\n",
       "</pre>\n"
      ],
      "text/plain": [
       "\u001b[1m Non-trainable params: \u001b[0m\u001b[38;5;34m0\u001b[0m (0.00 B)\n"
      ]
     },
     "metadata": {},
     "output_type": "display_data"
    },
    {
     "data": {
      "text/html": [
       "<pre style=\"white-space:pre;overflow-x:auto;line-height:normal;font-family:Menlo,'DejaVu Sans Mono',consolas,'Courier New',monospace\"><span style=\"font-weight: bold\"> Optimizer params: </span><span style=\"color: #00af00; text-decoration-color: #00af00\">253,292</span> (989.43 KB)\n",
       "</pre>\n"
      ],
      "text/plain": [
       "\u001b[1m Optimizer params: \u001b[0m\u001b[38;5;34m253,292\u001b[0m (989.43 KB)\n"
      ]
     },
     "metadata": {},
     "output_type": "display_data"
    }
   ],
   "source": [
    "model.summary()  # Resumen de la arquitectura del modelo"
   ]
  },
  {
   "cell_type": "code",
   "execution_count": 96,
   "metadata": {},
   "outputs": [
    {
     "name": "stdout",
     "output_type": "stream",
     "text": [
      "\u001b[1m7/7\u001b[0m \u001b[32m━━━━━━━━━━━━━━━━━━━━\u001b[0m\u001b[37m\u001b[0m \u001b[1m0s\u001b[0m 19ms/step - accuracy: 0.8939 - loss: 0.3987\n",
      "Precisión del modelo: 0.9183\n"
     ]
    }
   ],
   "source": [
    "# Cargar el mejor modelo guardado\n",
    "model = load_model('BrailleNet.keras')\n",
    "acc = model.evaluate(val_generator)[1]  # Evaluar el modelo en el conjunto de validación\n",
    "print('Precisión del modelo: {}'.format(round(acc, 4)))  # Mostrar la precisión del modelo"
   ]
  },
  {
   "cell_type": "code",
   "execution_count": 97,
   "metadata": {},
   "outputs": [
    {
     "data": {
      "image/png": "[encoded data removed]",
      "text/plain": [
       "<Figure size 640x480 with 1 Axes>"
      ]
     },
     "metadata": {},
     "output_type": "display_data"
    }
   ],
   "source": [
    "# Graficar la pérdida durante el entrenamiento\n",
    "plt.plot(history.history['loss'], label='pérdida de entrenamiento')\n",
    "plt.plot(history.history['val_loss'], label='pérdida de validación')\n",
    "plt.legend()\n",
    "#plt.show()\n",
    "plt.savefig('LossVal_loss')  # Guardar la gráfica de pérdida\n",
    "\n",
    "# Graficar la precisión durante el entrenamiento\n",
    "plt.plot(history.history['accuracy'], label='precisión de entrenamiento')\n",
    "plt.plot(history.history['val_accuracy'], label='precisión de validación')\n",
    "plt.legend()\n",
    "#plt.show()\n",
    "plt.savefig('AccVal_acc')  # Guardar la gráfica de precisión"
   ]
  },
  {
   "cell_type": "code",
   "execution_count": 98,
   "metadata": {},
   "outputs": [
    {
     "name": "stdout",
     "output_type": "stream",
     "text": [
      "\u001b[1m7/7\u001b[0m \u001b[32m━━━━━━━━━━━━━━━━━━━━\u001b[0m\u001b[37m\u001b[0m \u001b[1m0s\u001b[0m 26ms/step\n"
     ]
    },
    {
     "data": {
      "text/plain": [
       "array([[4.62196247e-20, 1.69411509e-29, 1.53247890e-15, ...,\n",
       "        1.41542271e-08, 9.97891843e-01, 7.84144686e-06],\n",
       "       [7.46667311e-12, 9.99999523e-01, 8.18804780e-16, ...,\n",
       "        1.35254960e-20, 9.71917404e-23, 1.55092183e-16],\n",
       "       [5.31516212e-21, 5.70672169e-17, 2.62778377e-15, ...,\n",
       "        5.85383996e-14, 1.10042458e-06, 7.85180475e-07],\n",
       "       ...,\n",
       "       [3.75532766e-27, 8.45880771e-16, 1.13154358e-20, ...,\n",
       "        1.19198208e-23, 3.81793918e-15, 3.44618317e-22],\n",
       "       [1.83133981e-37, 2.08919930e-29, 3.76590180e-22, ...,\n",
       "        4.77742166e-17, 2.64340040e-17, 1.27458481e-23],\n",
       "       [4.11732097e-19, 3.45995940e-18, 9.98219720e-20, ...,\n",
       "        1.28868296e-17, 4.88702238e-01, 1.94059267e-05]], dtype=float32)"
      ]
     },
     "execution_count": 98,
     "metadata": {},
     "output_type": "execute_result"
    }
   ],
   "source": [
    "# Realizar predicciones en el conjunto de validación\n",
    "pred = model.predict(val_generator)\n",
    "pred"
   ]
  },
  {
   "cell_type": "code",
   "execution_count": 104,
   "metadata": {},
   "outputs": [
    {
     "name": "stdout",
     "output_type": "stream",
     "text": [
      "\u001b[1m1/1\u001b[0m \u001b[32m━━━━━━━━━━━━━━━━━━━━\u001b[0m\u001b[37m\u001b[0m \u001b[1m0s\u001b[0m 14ms/step\n",
      "\u001b[1m1/1\u001b[0m \u001b[32m━━━━━━━━━━━━━━━━━━━━\u001b[0m\u001b[37m\u001b[0m \u001b[1m0s\u001b[0m 15ms/step\n",
      "predicción =  [6]\n"
     ]
    },
    {
     "data": {
      "image/png": "[encoded data removed]",
      "text/plain": [
       "<Figure size 640x480 with 1 Axes>"
      ]
     },
     "metadata": {},
     "output_type": "display_data"
    }
   ],
   "source": [
    "# Cargar y mostrar una imagen\n",
    "from PIL import Image\n",
    "import numpy as np\n",
    "\n",
    "# Cargar la imagen\n",
    "imagen = Image.open('prueba.jpg')\n",
    "\n",
    "# Convertir la imagen a escala de grises\n",
    "imagen_gris = imagen.convert('L')\n",
    "\n",
    "# Convertir la imagen a un array numpy\n",
    "imagen_array = np.array(imagen_gris)\n",
    "\n",
    "# Normalizar la imagen a valores entre 0 y 1\n",
    "imagen_normalizada = imagen_array / 255.0\n",
    "\n",
    "# Opcional: Convertir de nuevo a la imagen de Pillow (si necesitas guardar o mostrar)\n",
    "imagen_normalizada_pil = Image.fromarray((imagen_normalizada * 255).astype(np.uint8))\n",
    "\n",
    "# Guardar la imagen normalizada en blanco y negro\n",
    "imagen_normalizada_pil.save('imagen_normalizada_bn.jpg')\n",
    "\n",
    "# Mostrar la imagen normalizada en blanco y negro (opcional)\n",
    "imagen_normalizada_pil.show()\n",
    "\n",
    "\n",
    "img = image.load_img('imagen_normalizada_bn.jpg')  # Cargar la imagen\n",
    "plt.imshow(img)  # Mostrar la imagen\n",
    "\n",
    "x = image.img_to_array(img)  # Convertir la imagen a un array\n",
    "# print(x)  # Mostrar el array (comentar si no se necesita)\n",
    "\n",
    "# print(x.shape)  # Mostrar la forma del array (comentar si no se necesita)\n",
    "\n",
    "x = np.expand_dims(x, axis=0)  # Expandir dimensiones para la predicción\n",
    "model.predict(x)  # Realizar la predicción\n",
    "\n",
    "a = np.argmax(model.predict(x), axis=1)  # Obtener la clase predicha\n",
    "print('predicción = ', a)  # Mostrar la clase predicha"
   ]
  }
 ],
 "metadata": {
  "kernelspec": {
   "display_name": "base",
   "language": "python",
   "name": "python3"
  },
  "language_info": {
   "codemirror_mode": {
    "name": "ipython",
    "version": 3
   },
   "file_extension": ".py",
   "mimetype": "text/x-python",
   "name": "python",
   "nbconvert_exporter": "python",
   "pygments_lexer": "ipython3",
   "version": "3.12.7"
  }
 },
 "nbformat": 4,
 "nbformat_minor": 2
}
